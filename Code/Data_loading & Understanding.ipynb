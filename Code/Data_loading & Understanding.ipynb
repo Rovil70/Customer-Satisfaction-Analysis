{
 "cells": [
  {
   "cell_type": "markdown",
   "id": "e45bab58",
   "metadata": {},
   "source": [
    "Import Libraries"
   ]
  },
  {
   "cell_type": "code",
   "execution_count": 6,
   "id": "9aaa7827",
   "metadata": {},
   "outputs": [],
   "source": [
    "import pandas as pd\n",
    "df= pd.read_csv(r\"D:\\Unified Mentor Intership\\Data Science projects\\Customer Satisfaction\\Data\\customer_support_tickets.csv\")"
   ]
  },
  {
   "cell_type": "markdown",
   "id": "32f0b07a",
   "metadata": {},
   "source": [
    "Display basic information about the dataset"
   ]
  },
  {
   "cell_type": "code",
   "execution_count": 7,
   "id": "d606c34c",
   "metadata": {},
   "outputs": [
    {
     "name": "stdout",
     "output_type": "stream",
     "text": [
      "<class 'pandas.core.frame.DataFrame'>\n",
      "RangeIndex: 2819 entries, 0 to 2818\n",
      "Data columns (total 17 columns):\n",
      " #   Column                        Non-Null Count  Dtype  \n",
      "---  ------                        --------------  -----  \n",
      " 0   Ticket ID                     2819 non-null   int64  \n",
      " 1   Customer Name                 2819 non-null   object \n",
      " 2   Customer Email                2819 non-null   object \n",
      " 3   Customer Age                  2819 non-null   int64  \n",
      " 4   Customer Gender               2819 non-null   object \n",
      " 5   Product Purchased             2819 non-null   object \n",
      " 6   Date of Purchase              2819 non-null   object \n",
      " 7   Ticket Type                   2819 non-null   object \n",
      " 8   Ticket Subject                2819 non-null   object \n",
      " 9   Ticket Description            2819 non-null   object \n",
      " 10  Ticket Status                 2819 non-null   object \n",
      " 11  Resolution                    2769 non-null   object \n",
      " 12  Ticket Priority               2819 non-null   object \n",
      " 13  Ticket Channel                2819 non-null   object \n",
      " 14  First Response Time           2769 non-null   object \n",
      " 15  Time to Resolution            2769 non-null   object \n",
      " 16  Customer Satisfaction Rating  2769 non-null   float64\n",
      "dtypes: float64(1), int64(2), object(14)\n",
      "memory usage: 374.5+ KB\n"
     ]
    }
   ],
   "source": [
    "df.info()\n"
   ]
  },
  {
   "cell_type": "code",
   "execution_count": 8,
   "id": "17913acb",
   "metadata": {},
   "outputs": [
    {
     "data": {
      "text/html": [
       "<div>\n",
       "<style scoped>\n",
       "    .dataframe tbody tr th:only-of-type {\n",
       "        vertical-align: middle;\n",
       "    }\n",
       "\n",
       "    .dataframe tbody tr th {\n",
       "        vertical-align: top;\n",
       "    }\n",
       "\n",
       "    .dataframe thead th {\n",
       "        text-align: right;\n",
       "    }\n",
       "</style>\n",
       "<table border=\"1\" class=\"dataframe\">\n",
       "  <thead>\n",
       "    <tr style=\"text-align: right;\">\n",
       "      <th></th>\n",
       "      <th>Ticket ID</th>\n",
       "      <th>Customer Name</th>\n",
       "      <th>Customer Email</th>\n",
       "      <th>Customer Age</th>\n",
       "      <th>Customer Gender</th>\n",
       "      <th>Product Purchased</th>\n",
       "      <th>Date of Purchase</th>\n",
       "      <th>Ticket Type</th>\n",
       "      <th>Ticket Subject</th>\n",
       "      <th>Ticket Description</th>\n",
       "      <th>Ticket Status</th>\n",
       "      <th>Resolution</th>\n",
       "      <th>Ticket Priority</th>\n",
       "      <th>Ticket Channel</th>\n",
       "      <th>First Response Time</th>\n",
       "      <th>Time to Resolution</th>\n",
       "      <th>Customer Satisfaction Rating</th>\n",
       "    </tr>\n",
       "  </thead>\n",
       "  <tbody>\n",
       "    <tr>\n",
       "      <th>0</th>\n",
       "      <td>1</td>\n",
       "      <td>Christopher Robbins</td>\n",
       "      <td>gonzalestracy@example.com</td>\n",
       "      <td>48</td>\n",
       "      <td>Other</td>\n",
       "      <td>Dell XPS</td>\n",
       "      <td>14-07-2020</td>\n",
       "      <td>Technical issue</td>\n",
       "      <td>Network problem</td>\n",
       "      <td>I'm facing a problem with my {product_purchase...</td>\n",
       "      <td>Closed</td>\n",
       "      <td>Case maybe show recently my computer follow.</td>\n",
       "      <td>Low</td>\n",
       "      <td>Social media</td>\n",
       "      <td>01-06-2023 11:14</td>\n",
       "      <td>01-06-2023 18:05</td>\n",
       "      <td>3.0</td>\n",
       "    </tr>\n",
       "    <tr>\n",
       "      <th>1</th>\n",
       "      <td>4</td>\n",
       "      <td>Christina Dillon</td>\n",
       "      <td>bradleyolson@example.org</td>\n",
       "      <td>27</td>\n",
       "      <td>Female</td>\n",
       "      <td>Microsoft Office</td>\n",
       "      <td>13-11-2020</td>\n",
       "      <td>Billing inquiry</td>\n",
       "      <td>Account access</td>\n",
       "      <td>I'm having an issue with the {product_purchase...</td>\n",
       "      <td>Closed</td>\n",
       "      <td>Try capital clearly never color toward story.</td>\n",
       "      <td>Low</td>\n",
       "      <td>Social media</td>\n",
       "      <td>01-06-2023 07:29</td>\n",
       "      <td>01-06-2023 01:57</td>\n",
       "      <td>3.0</td>\n",
       "    </tr>\n",
       "    <tr>\n",
       "      <th>2</th>\n",
       "      <td>5</td>\n",
       "      <td>Alexander Carroll</td>\n",
       "      <td>bradleymark@example.com</td>\n",
       "      <td>67</td>\n",
       "      <td>Female</td>\n",
       "      <td>Autodesk AutoCAD</td>\n",
       "      <td>04-02-2020</td>\n",
       "      <td>Billing inquiry</td>\n",
       "      <td>Data loss</td>\n",
       "      <td>I'm having an issue with the {product_purchase...</td>\n",
       "      <td>Closed</td>\n",
       "      <td>West decision evidence bit.</td>\n",
       "      <td>Low</td>\n",
       "      <td>Email</td>\n",
       "      <td>01-06-2023 00:12</td>\n",
       "      <td>01-06-2023 19:53</td>\n",
       "      <td>1.0</td>\n",
       "    </tr>\n",
       "    <tr>\n",
       "      <th>3</th>\n",
       "      <td>11</td>\n",
       "      <td>Joseph Moreno</td>\n",
       "      <td>mbrown@example.org</td>\n",
       "      <td>48</td>\n",
       "      <td>Male</td>\n",
       "      <td>Nintendo Switch</td>\n",
       "      <td>19-01-2021</td>\n",
       "      <td>Cancellation request</td>\n",
       "      <td>Data loss</td>\n",
       "      <td>I'm having an issue with the {product_purchase...</td>\n",
       "      <td>Closed</td>\n",
       "      <td>Measure tonight surface feel forward.</td>\n",
       "      <td>High</td>\n",
       "      <td>Phone</td>\n",
       "      <td>01-06-2023 17:46</td>\n",
       "      <td>31-05-2023 23:51</td>\n",
       "      <td>1.0</td>\n",
       "    </tr>\n",
       "    <tr>\n",
       "      <th>4</th>\n",
       "      <td>12</td>\n",
       "      <td>Brandon Arnold</td>\n",
       "      <td>davisjohn@example.net</td>\n",
       "      <td>51</td>\n",
       "      <td>Male</td>\n",
       "      <td>Microsoft Xbox Controller</td>\n",
       "      <td>24-10-2021</td>\n",
       "      <td>Product inquiry</td>\n",
       "      <td>Software bug</td>\n",
       "      <td>I'm having an issue with the {product_purchase...</td>\n",
       "      <td>Closed</td>\n",
       "      <td>Measure there house management pick knowledge ...</td>\n",
       "      <td>High</td>\n",
       "      <td>Chat</td>\n",
       "      <td>01-06-2023 12:05</td>\n",
       "      <td>01-06-2023 09:27</td>\n",
       "      <td>1.0</td>\n",
       "    </tr>\n",
       "  </tbody>\n",
       "</table>\n",
       "</div>"
      ],
      "text/plain": [
       "   Ticket ID        Customer Name             Customer Email  Customer Age  \\\n",
       "0          1  Christopher Robbins  gonzalestracy@example.com            48   \n",
       "1          4     Christina Dillon   bradleyolson@example.org            27   \n",
       "2          5    Alexander Carroll    bradleymark@example.com            67   \n",
       "3         11        Joseph Moreno         mbrown@example.org            48   \n",
       "4         12       Brandon Arnold      davisjohn@example.net            51   \n",
       "\n",
       "  Customer Gender          Product Purchased Date of Purchase  \\\n",
       "0           Other                   Dell XPS       14-07-2020   \n",
       "1          Female           Microsoft Office       13-11-2020   \n",
       "2          Female           Autodesk AutoCAD       04-02-2020   \n",
       "3            Male            Nintendo Switch       19-01-2021   \n",
       "4            Male  Microsoft Xbox Controller       24-10-2021   \n",
       "\n",
       "            Ticket Type   Ticket Subject  \\\n",
       "0       Technical issue  Network problem   \n",
       "1       Billing inquiry   Account access   \n",
       "2       Billing inquiry        Data loss   \n",
       "3  Cancellation request        Data loss   \n",
       "4       Product inquiry     Software bug   \n",
       "\n",
       "                                  Ticket Description Ticket Status  \\\n",
       "0  I'm facing a problem with my {product_purchase...        Closed   \n",
       "1  I'm having an issue with the {product_purchase...        Closed   \n",
       "2  I'm having an issue with the {product_purchase...        Closed   \n",
       "3  I'm having an issue with the {product_purchase...        Closed   \n",
       "4  I'm having an issue with the {product_purchase...        Closed   \n",
       "\n",
       "                                          Resolution Ticket Priority  \\\n",
       "0       Case maybe show recently my computer follow.             Low   \n",
       "1      Try capital clearly never color toward story.             Low   \n",
       "2                        West decision evidence bit.             Low   \n",
       "3              Measure tonight surface feel forward.            High   \n",
       "4  Measure there house management pick knowledge ...            High   \n",
       "\n",
       "  Ticket Channel First Response Time Time to Resolution  \\\n",
       "0   Social media    01-06-2023 11:14   01-06-2023 18:05   \n",
       "1   Social media    01-06-2023 07:29   01-06-2023 01:57   \n",
       "2          Email    01-06-2023 00:12   01-06-2023 19:53   \n",
       "3          Phone    01-06-2023 17:46   31-05-2023 23:51   \n",
       "4           Chat    01-06-2023 12:05   01-06-2023 09:27   \n",
       "\n",
       "   Customer Satisfaction Rating  \n",
       "0                           3.0  \n",
       "1                           3.0  \n",
       "2                           1.0  \n",
       "3                           1.0  \n",
       "4                           1.0  "
      ]
     },
     "execution_count": 8,
     "metadata": {},
     "output_type": "execute_result"
    }
   ],
   "source": [
    "df.head()"
   ]
  },
  {
   "cell_type": "markdown",
   "id": "d4054ecd",
   "metadata": {},
   "source": [
    "Check for missing values"
   ]
  },
  {
   "cell_type": "code",
   "execution_count": 9,
   "id": "ca0d9dc4",
   "metadata": {},
   "outputs": [
    {
     "data": {
      "text/plain": [
       "Customer Satisfaction Rating    50\n",
       "Time to Resolution              50\n",
       "First Response Time             50\n",
       "Resolution                      50\n",
       "Ticket Description               0\n",
       "Ticket Channel                   0\n",
       "Ticket Priority                  0\n",
       "Ticket Status                    0\n",
       "Ticket ID                        0\n",
       "Customer Name                    0\n",
       "Ticket Type                      0\n",
       "Date of Purchase                 0\n",
       "Product Purchased                0\n",
       "Customer Gender                  0\n",
       "Customer Age                     0\n",
       "Customer Email                   0\n",
       "Ticket Subject                   0\n",
       "dtype: int64"
      ]
     },
     "execution_count": 9,
     "metadata": {},
     "output_type": "execute_result"
    }
   ],
   "source": [
    "df.isnull().sum().sort_values(ascending=False)"
   ]
  },
  {
   "cell_type": "markdown",
   "id": "b973e9c2",
   "metadata": {},
   "source": [
    "Check for unique values per column"
   ]
  },
  {
   "cell_type": "code",
   "execution_count": 10,
   "id": "e3ae4a82",
   "metadata": {},
   "outputs": [
    {
     "data": {
      "text/plain": [
       "Ticket ID                       2819\n",
       "Customer Email                  2799\n",
       "Resolution                      2769\n",
       "Customer Name                   2762\n",
       "Ticket Description              2727\n",
       "Time to Resolution              1283\n",
       "First Response Time             1275\n",
       "Date of Purchase                 718\n",
       "Customer Age                      53\n",
       "Product Purchased                 42\n",
       "Ticket Subject                    16\n",
       "Ticket Type                        5\n",
       "Customer Satisfaction Rating       5\n",
       "Ticket Priority                    4\n",
       "Ticket Channel                     4\n",
       "Customer Gender                    3\n",
       "Ticket Status                      2\n",
       "dtype: int64"
      ]
     },
     "execution_count": 10,
     "metadata": {},
     "output_type": "execute_result"
    }
   ],
   "source": [
    "df.nunique().sort_values(ascending=False)"
   ]
  },
  {
   "cell_type": "markdown",
   "id": "98e31e92",
   "metadata": {},
   "source": [
    "Basic stats for numeric columns"
   ]
  },
  {
   "cell_type": "code",
   "execution_count": 11,
   "id": "baf73a5a",
   "metadata": {},
   "outputs": [
    {
     "data": {
      "text/html": [
       "<div>\n",
       "<style scoped>\n",
       "    .dataframe tbody tr th:only-of-type {\n",
       "        vertical-align: middle;\n",
       "    }\n",
       "\n",
       "    .dataframe tbody tr th {\n",
       "        vertical-align: top;\n",
       "    }\n",
       "\n",
       "    .dataframe thead th {\n",
       "        text-align: right;\n",
       "    }\n",
       "</style>\n",
       "<table border=\"1\" class=\"dataframe\">\n",
       "  <thead>\n",
       "    <tr style=\"text-align: right;\">\n",
       "      <th></th>\n",
       "      <th>Ticket ID</th>\n",
       "      <th>Customer Age</th>\n",
       "      <th>Customer Satisfaction Rating</th>\n",
       "    </tr>\n",
       "  </thead>\n",
       "  <tbody>\n",
       "    <tr>\n",
       "      <th>count</th>\n",
       "      <td>2819.000000</td>\n",
       "      <td>2819.000000</td>\n",
       "      <td>2769.000000</td>\n",
       "    </tr>\n",
       "    <tr>\n",
       "      <th>mean</th>\n",
       "      <td>4271.925505</td>\n",
       "      <td>44.301171</td>\n",
       "      <td>2.991333</td>\n",
       "    </tr>\n",
       "    <tr>\n",
       "      <th>std</th>\n",
       "      <td>2445.926750</td>\n",
       "      <td>15.238968</td>\n",
       "      <td>1.407016</td>\n",
       "    </tr>\n",
       "    <tr>\n",
       "      <th>min</th>\n",
       "      <td>1.000000</td>\n",
       "      <td>18.000000</td>\n",
       "      <td>1.000000</td>\n",
       "    </tr>\n",
       "    <tr>\n",
       "      <th>25%</th>\n",
       "      <td>2196.000000</td>\n",
       "      <td>31.000000</td>\n",
       "      <td>2.000000</td>\n",
       "    </tr>\n",
       "    <tr>\n",
       "      <th>50%</th>\n",
       "      <td>4323.000000</td>\n",
       "      <td>45.000000</td>\n",
       "      <td>3.000000</td>\n",
       "    </tr>\n",
       "    <tr>\n",
       "      <th>75%</th>\n",
       "      <td>6349.000000</td>\n",
       "      <td>57.000000</td>\n",
       "      <td>4.000000</td>\n",
       "    </tr>\n",
       "    <tr>\n",
       "      <th>max</th>\n",
       "      <td>8468.000000</td>\n",
       "      <td>70.000000</td>\n",
       "      <td>5.000000</td>\n",
       "    </tr>\n",
       "  </tbody>\n",
       "</table>\n",
       "</div>"
      ],
      "text/plain": [
       "         Ticket ID  Customer Age  Customer Satisfaction Rating\n",
       "count  2819.000000   2819.000000                   2769.000000\n",
       "mean   4271.925505     44.301171                      2.991333\n",
       "std    2445.926750     15.238968                      1.407016\n",
       "min       1.000000     18.000000                      1.000000\n",
       "25%    2196.000000     31.000000                      2.000000\n",
       "50%    4323.000000     45.000000                      3.000000\n",
       "75%    6349.000000     57.000000                      4.000000\n",
       "max    8468.000000     70.000000                      5.000000"
      ]
     },
     "execution_count": 11,
     "metadata": {},
     "output_type": "execute_result"
    }
   ],
   "source": [
    "df.describe()"
   ]
  },
  {
   "cell_type": "markdown",
   "id": "ac07dc22",
   "metadata": {},
   "source": [
    "Distribution of satisfaction rating"
   ]
  },
  {
   "cell_type": "code",
   "execution_count": 12,
   "id": "a233891f",
   "metadata": {},
   "outputs": [
    {
     "data": {
      "text/plain": [
       "Customer Satisfaction Rating\n",
       "1.0    553\n",
       "2.0    549\n",
       "3.0    580\n",
       "4.0    543\n",
       "5.0    544\n",
       "NaN     50\n",
       "Name: count, dtype: int64"
      ]
     },
     "execution_count": 12,
     "metadata": {},
     "output_type": "execute_result"
    }
   ],
   "source": [
    "df['Customer Satisfaction Rating'].value_counts(dropna=False).sort_index()\n"
   ]
  }
 ],
 "metadata": {
  "kernelspec": {
   "display_name": "base",
   "language": "python",
   "name": "python3"
  },
  "language_info": {
   "codemirror_mode": {
    "name": "ipython",
    "version": 3
   },
   "file_extension": ".py",
   "mimetype": "text/x-python",
   "name": "python",
   "nbconvert_exporter": "python",
   "pygments_lexer": "ipython3",
   "version": "3.12.7"
  }
 },
 "nbformat": 4,
 "nbformat_minor": 5
}
