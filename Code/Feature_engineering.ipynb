{
 "cells": [
  {
   "cell_type": "code",
   "execution_count": 21,
   "id": "4420d312",
   "metadata": {},
   "outputs": [
    {
     "data": {
      "text/html": [
       "<div>\n",
       "<style scoped>\n",
       "    .dataframe tbody tr th:only-of-type {\n",
       "        vertical-align: middle;\n",
       "    }\n",
       "\n",
       "    .dataframe tbody tr th {\n",
       "        vertical-align: top;\n",
       "    }\n",
       "\n",
       "    .dataframe thead th {\n",
       "        text-align: right;\n",
       "    }\n",
       "</style>\n",
       "<table border=\"1\" class=\"dataframe\">\n",
       "  <thead>\n",
       "    <tr style=\"text-align: right;\">\n",
       "      <th></th>\n",
       "      <th>Ticket ID</th>\n",
       "      <th>Customer Name</th>\n",
       "      <th>Customer Email</th>\n",
       "      <th>Customer Age</th>\n",
       "      <th>Customer Gender</th>\n",
       "      <th>Product Purchased</th>\n",
       "      <th>Date of Purchase</th>\n",
       "      <th>Ticket Type</th>\n",
       "      <th>Ticket Subject</th>\n",
       "      <th>Ticket Description</th>\n",
       "      <th>Ticket Status</th>\n",
       "      <th>Resolution</th>\n",
       "      <th>Ticket Priority</th>\n",
       "      <th>Ticket Channel</th>\n",
       "      <th>First Response Time</th>\n",
       "      <th>Time to Resolution</th>\n",
       "      <th>Customer Satisfaction Rating</th>\n",
       "      <th>Response Delay (hrs)</th>\n",
       "      <th>Resolution Delay (hrs)</th>\n",
       "    </tr>\n",
       "  </thead>\n",
       "  <tbody>\n",
       "    <tr>\n",
       "      <th>0</th>\n",
       "      <td>1</td>\n",
       "      <td>Christopher Robbins</td>\n",
       "      <td>gonzalestracy@example.com</td>\n",
       "      <td>48</td>\n",
       "      <td>Other</td>\n",
       "      <td>Dell XPS</td>\n",
       "      <td>2020-07-14</td>\n",
       "      <td>Technical issue</td>\n",
       "      <td>Network problem</td>\n",
       "      <td>I'm facing a problem with my {product_purchase...</td>\n",
       "      <td>Closed</td>\n",
       "      <td>Case maybe show recently my computer follow.</td>\n",
       "      <td>Low</td>\n",
       "      <td>Social media</td>\n",
       "      <td>2023-01-06 11:14:00</td>\n",
       "      <td>2023-01-06 18:05:00</td>\n",
       "      <td>3.0</td>\n",
       "      <td>21755.233333</td>\n",
       "      <td>6.850000</td>\n",
       "    </tr>\n",
       "    <tr>\n",
       "      <th>1</th>\n",
       "      <td>4</td>\n",
       "      <td>Christina Dillon</td>\n",
       "      <td>bradleyolson@example.org</td>\n",
       "      <td>27</td>\n",
       "      <td>Female</td>\n",
       "      <td>Microsoft Office</td>\n",
       "      <td>2020-11-13</td>\n",
       "      <td>Billing inquiry</td>\n",
       "      <td>Account access</td>\n",
       "      <td>I'm having an issue with the {product_purchase...</td>\n",
       "      <td>Closed</td>\n",
       "      <td>Try capital clearly never color toward story.</td>\n",
       "      <td>Low</td>\n",
       "      <td>Social media</td>\n",
       "      <td>2023-01-06 07:29:00</td>\n",
       "      <td>2023-01-06 01:57:00</td>\n",
       "      <td>3.0</td>\n",
       "      <td>18823.483333</td>\n",
       "      <td>-5.533333</td>\n",
       "    </tr>\n",
       "    <tr>\n",
       "      <th>2</th>\n",
       "      <td>5</td>\n",
       "      <td>Alexander Carroll</td>\n",
       "      <td>bradleymark@example.com</td>\n",
       "      <td>67</td>\n",
       "      <td>Female</td>\n",
       "      <td>Autodesk AutoCAD</td>\n",
       "      <td>2020-02-04</td>\n",
       "      <td>Billing inquiry</td>\n",
       "      <td>Data loss</td>\n",
       "      <td>I'm having an issue with the {product_purchase...</td>\n",
       "      <td>Closed</td>\n",
       "      <td>West decision evidence bit.</td>\n",
       "      <td>Low</td>\n",
       "      <td>Email</td>\n",
       "      <td>2023-01-06 00:12:00</td>\n",
       "      <td>2023-01-06 19:53:00</td>\n",
       "      <td>1.0</td>\n",
       "      <td>25608.200000</td>\n",
       "      <td>19.683333</td>\n",
       "    </tr>\n",
       "    <tr>\n",
       "      <th>3</th>\n",
       "      <td>11</td>\n",
       "      <td>Joseph Moreno</td>\n",
       "      <td>mbrown@example.org</td>\n",
       "      <td>48</td>\n",
       "      <td>Male</td>\n",
       "      <td>Nintendo Switch</td>\n",
       "      <td>2021-01-19</td>\n",
       "      <td>Cancellation request</td>\n",
       "      <td>Data loss</td>\n",
       "      <td>I'm having an issue with the {product_purchase...</td>\n",
       "      <td>Closed</td>\n",
       "      <td>Measure tonight surface feel forward.</td>\n",
       "      <td>High</td>\n",
       "      <td>Phone</td>\n",
       "      <td>2023-01-06 17:46:00</td>\n",
       "      <td>2023-01-06 19:53:00</td>\n",
       "      <td>1.0</td>\n",
       "      <td>17225.766667</td>\n",
       "      <td>2.116667</td>\n",
       "    </tr>\n",
       "    <tr>\n",
       "      <th>4</th>\n",
       "      <td>12</td>\n",
       "      <td>Brandon Arnold</td>\n",
       "      <td>davisjohn@example.net</td>\n",
       "      <td>51</td>\n",
       "      <td>Male</td>\n",
       "      <td>Microsoft Xbox Controller</td>\n",
       "      <td>2021-10-24</td>\n",
       "      <td>Product inquiry</td>\n",
       "      <td>Software bug</td>\n",
       "      <td>I'm having an issue with the {product_purchase...</td>\n",
       "      <td>Closed</td>\n",
       "      <td>Measure there house management pick knowledge ...</td>\n",
       "      <td>High</td>\n",
       "      <td>Chat</td>\n",
       "      <td>2023-01-06 12:05:00</td>\n",
       "      <td>2023-01-06 09:27:00</td>\n",
       "      <td>1.0</td>\n",
       "      <td>10548.083333</td>\n",
       "      <td>-2.633333</td>\n",
       "    </tr>\n",
       "  </tbody>\n",
       "</table>\n",
       "</div>"
      ],
      "text/plain": [
       "   Ticket ID        Customer Name             Customer Email  Customer Age  \\\n",
       "0          1  Christopher Robbins  gonzalestracy@example.com            48   \n",
       "1          4     Christina Dillon   bradleyolson@example.org            27   \n",
       "2          5    Alexander Carroll    bradleymark@example.com            67   \n",
       "3         11        Joseph Moreno         mbrown@example.org            48   \n",
       "4         12       Brandon Arnold      davisjohn@example.net            51   \n",
       "\n",
       "  Customer Gender          Product Purchased Date of Purchase  \\\n",
       "0           Other                   Dell XPS       2020-07-14   \n",
       "1          Female           Microsoft Office       2020-11-13   \n",
       "2          Female           Autodesk AutoCAD       2020-02-04   \n",
       "3            Male            Nintendo Switch       2021-01-19   \n",
       "4            Male  Microsoft Xbox Controller       2021-10-24   \n",
       "\n",
       "            Ticket Type   Ticket Subject  \\\n",
       "0       Technical issue  Network problem   \n",
       "1       Billing inquiry   Account access   \n",
       "2       Billing inquiry        Data loss   \n",
       "3  Cancellation request        Data loss   \n",
       "4       Product inquiry     Software bug   \n",
       "\n",
       "                                  Ticket Description Ticket Status  \\\n",
       "0  I'm facing a problem with my {product_purchase...        Closed   \n",
       "1  I'm having an issue with the {product_purchase...        Closed   \n",
       "2  I'm having an issue with the {product_purchase...        Closed   \n",
       "3  I'm having an issue with the {product_purchase...        Closed   \n",
       "4  I'm having an issue with the {product_purchase...        Closed   \n",
       "\n",
       "                                          Resolution Ticket Priority  \\\n",
       "0       Case maybe show recently my computer follow.             Low   \n",
       "1      Try capital clearly never color toward story.             Low   \n",
       "2                        West decision evidence bit.             Low   \n",
       "3              Measure tonight surface feel forward.            High   \n",
       "4  Measure there house management pick knowledge ...            High   \n",
       "\n",
       "  Ticket Channel  First Response Time   Time to Resolution  \\\n",
       "0   Social media  2023-01-06 11:14:00  2023-01-06 18:05:00   \n",
       "1   Social media  2023-01-06 07:29:00  2023-01-06 01:57:00   \n",
       "2          Email  2023-01-06 00:12:00  2023-01-06 19:53:00   \n",
       "3          Phone  2023-01-06 17:46:00  2023-01-06 19:53:00   \n",
       "4           Chat  2023-01-06 12:05:00  2023-01-06 09:27:00   \n",
       "\n",
       "   Customer Satisfaction Rating  Response Delay (hrs)  Resolution Delay (hrs)  \n",
       "0                           3.0          21755.233333                6.850000  \n",
       "1                           3.0          18823.483333               -5.533333  \n",
       "2                           1.0          25608.200000               19.683333  \n",
       "3                           1.0          17225.766667                2.116667  \n",
       "4                           1.0          10548.083333               -2.633333  "
      ]
     },
     "execution_count": 21,
     "metadata": {},
     "output_type": "execute_result"
    }
   ],
   "source": [
    "import pandas as pd\n",
    "df=pd.read_csv(r\"D:\\Unified Mentor Intership\\Data Science projects\\Customer Satisfaction\\Data\\customer_support_cleaned.csv\")\n",
    "df.head()"
   ]
  },
  {
   "cell_type": "markdown",
   "id": "4bbb7890",
   "metadata": {},
   "source": [
    " Convert to datetime"
   ]
  },
  {
   "cell_type": "code",
   "execution_count": 22,
   "id": "adad498a",
   "metadata": {},
   "outputs": [
    {
     "name": "stderr",
     "output_type": "stream",
     "text": [
      "C:\\Users\\Lenovo\\AppData\\Local\\Temp\\ipykernel_11108\\3439060577.py:1: UserWarning: Parsing dates in %Y-%m-%d format when dayfirst=True was specified. Pass `dayfirst=False` or specify a format to silence this warning.\n",
      "  df['Date of Purchase'] = pd.to_datetime(df['Date of Purchase'], dayfirst=True, errors='coerce')\n"
     ]
    }
   ],
   "source": [
    "df['Date of Purchase'] = pd.to_datetime(df['Date of Purchase'], dayfirst=True, errors='coerce')\n"
   ]
  },
  {
   "cell_type": "markdown",
   "id": "ad031981",
   "metadata": {},
   "source": [
    "Create categorical time-based features"
   ]
  },
  {
   "cell_type": "code",
   "execution_count": 23,
   "id": "3b26631a",
   "metadata": {},
   "outputs": [],
   "source": [
    "df['Purchase Month'] = df['Date of Purchase'].dt.month\n",
    "df['Purchase Weekday'] = df['Date of Purchase'].dt.day_name()"
   ]
  },
  {
   "cell_type": "markdown",
   "id": "0999991d",
   "metadata": {},
   "source": [
    "Length of ticket description"
   ]
  },
  {
   "cell_type": "code",
   "execution_count": 24,
   "id": "67d89933",
   "metadata": {},
   "outputs": [],
   "source": [
    "df['Ticket Description Length'] = df['Ticket Description'].apply(lambda x: len(x.split()))"
   ]
  },
  {
   "cell_type": "markdown",
   "id": "66fdac09",
   "metadata": {},
   "source": [
    "Response and resolution bins"
   ]
  },
  {
   "cell_type": "code",
   "execution_count": 25,
   "id": "1d7573d8",
   "metadata": {},
   "outputs": [],
   "source": [
    "df['Fast Response'] = df['Response Delay (hrs)'] < 24\n",
    "df['Fast Resolution'] = df['Resolution Delay (hrs)'] < 48"
   ]
  },
  {
   "cell_type": "markdown",
   "id": "a2973dd0",
   "metadata": {},
   "source": [
    "Encode target variable for classification"
   ]
  },
  {
   "cell_type": "code",
   "execution_count": 26,
   "id": "f82c7b25",
   "metadata": {},
   "outputs": [],
   "source": [
    "from sklearn.preprocessing import LabelEncoder\n",
    "le = LabelEncoder()\n",
    "df['Satisfaction_Label'] = le.fit_transform(df['Customer Satisfaction Rating'])"
   ]
  },
  {
   "cell_type": "markdown",
   "id": "608f07d9",
   "metadata": {},
   "source": [
    "Save the feature-engineered dataset"
   ]
  },
  {
   "cell_type": "code",
   "execution_count": 27,
   "id": "f631ad9e",
   "metadata": {},
   "outputs": [],
   "source": [
    "df.to_csv(\"customer_support_engineered.csv\", index=False)\n"
   ]
  }
 ],
 "metadata": {
  "kernelspec": {
   "display_name": "base",
   "language": "python",
   "name": "python3"
  },
  "language_info": {
   "codemirror_mode": {
    "name": "ipython",
    "version": 3
   },
   "file_extension": ".py",
   "mimetype": "text/x-python",
   "name": "python",
   "nbconvert_exporter": "python",
   "pygments_lexer": "ipython3",
   "version": "3.12.7"
  }
 },
 "nbformat": 4,
 "nbformat_minor": 5
}
