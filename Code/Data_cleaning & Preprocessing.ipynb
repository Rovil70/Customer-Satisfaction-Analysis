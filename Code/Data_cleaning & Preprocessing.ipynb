{
 "cells": [
  {
   "cell_type": "code",
   "execution_count": 13,
   "id": "18ed1967",
   "metadata": {},
   "outputs": [
    {
     "data": {
      "text/html": [
       "<div>\n",
       "<style scoped>\n",
       "    .dataframe tbody tr th:only-of-type {\n",
       "        vertical-align: middle;\n",
       "    }\n",
       "\n",
       "    .dataframe tbody tr th {\n",
       "        vertical-align: top;\n",
       "    }\n",
       "\n",
       "    .dataframe thead th {\n",
       "        text-align: right;\n",
       "    }\n",
       "</style>\n",
       "<table border=\"1\" class=\"dataframe\">\n",
       "  <thead>\n",
       "    <tr style=\"text-align: right;\">\n",
       "      <th></th>\n",
       "      <th>Ticket ID</th>\n",
       "      <th>Customer Name</th>\n",
       "      <th>Customer Email</th>\n",
       "      <th>Customer Age</th>\n",
       "      <th>Customer Gender</th>\n",
       "      <th>Product Purchased</th>\n",
       "      <th>Date of Purchase</th>\n",
       "      <th>Ticket Type</th>\n",
       "      <th>Ticket Subject</th>\n",
       "      <th>Ticket Description</th>\n",
       "      <th>Ticket Status</th>\n",
       "      <th>Resolution</th>\n",
       "      <th>Ticket Priority</th>\n",
       "      <th>Ticket Channel</th>\n",
       "      <th>First Response Time</th>\n",
       "      <th>Time to Resolution</th>\n",
       "      <th>Customer Satisfaction Rating</th>\n",
       "    </tr>\n",
       "  </thead>\n",
       "  <tbody>\n",
       "    <tr>\n",
       "      <th>0</th>\n",
       "      <td>1</td>\n",
       "      <td>Christopher Robbins</td>\n",
       "      <td>gonzalestracy@example.com</td>\n",
       "      <td>48</td>\n",
       "      <td>Other</td>\n",
       "      <td>Dell XPS</td>\n",
       "      <td>14-07-2020</td>\n",
       "      <td>Technical issue</td>\n",
       "      <td>Network problem</td>\n",
       "      <td>I'm facing a problem with my {product_purchase...</td>\n",
       "      <td>Closed</td>\n",
       "      <td>Case maybe show recently my computer follow.</td>\n",
       "      <td>Low</td>\n",
       "      <td>Social media</td>\n",
       "      <td>01-06-2023 11:14</td>\n",
       "      <td>01-06-2023 18:05</td>\n",
       "      <td>3.0</td>\n",
       "    </tr>\n",
       "    <tr>\n",
       "      <th>1</th>\n",
       "      <td>4</td>\n",
       "      <td>Christina Dillon</td>\n",
       "      <td>bradleyolson@example.org</td>\n",
       "      <td>27</td>\n",
       "      <td>Female</td>\n",
       "      <td>Microsoft Office</td>\n",
       "      <td>13-11-2020</td>\n",
       "      <td>Billing inquiry</td>\n",
       "      <td>Account access</td>\n",
       "      <td>I'm having an issue with the {product_purchase...</td>\n",
       "      <td>Closed</td>\n",
       "      <td>Try capital clearly never color toward story.</td>\n",
       "      <td>Low</td>\n",
       "      <td>Social media</td>\n",
       "      <td>01-06-2023 07:29</td>\n",
       "      <td>01-06-2023 01:57</td>\n",
       "      <td>3.0</td>\n",
       "    </tr>\n",
       "    <tr>\n",
       "      <th>2</th>\n",
       "      <td>5</td>\n",
       "      <td>Alexander Carroll</td>\n",
       "      <td>bradleymark@example.com</td>\n",
       "      <td>67</td>\n",
       "      <td>Female</td>\n",
       "      <td>Autodesk AutoCAD</td>\n",
       "      <td>04-02-2020</td>\n",
       "      <td>Billing inquiry</td>\n",
       "      <td>Data loss</td>\n",
       "      <td>I'm having an issue with the {product_purchase...</td>\n",
       "      <td>Closed</td>\n",
       "      <td>West decision evidence bit.</td>\n",
       "      <td>Low</td>\n",
       "      <td>Email</td>\n",
       "      <td>01-06-2023 00:12</td>\n",
       "      <td>01-06-2023 19:53</td>\n",
       "      <td>1.0</td>\n",
       "    </tr>\n",
       "    <tr>\n",
       "      <th>3</th>\n",
       "      <td>11</td>\n",
       "      <td>Joseph Moreno</td>\n",
       "      <td>mbrown@example.org</td>\n",
       "      <td>48</td>\n",
       "      <td>Male</td>\n",
       "      <td>Nintendo Switch</td>\n",
       "      <td>19-01-2021</td>\n",
       "      <td>Cancellation request</td>\n",
       "      <td>Data loss</td>\n",
       "      <td>I'm having an issue with the {product_purchase...</td>\n",
       "      <td>Closed</td>\n",
       "      <td>Measure tonight surface feel forward.</td>\n",
       "      <td>High</td>\n",
       "      <td>Phone</td>\n",
       "      <td>01-06-2023 17:46</td>\n",
       "      <td>31-05-2023 23:51</td>\n",
       "      <td>1.0</td>\n",
       "    </tr>\n",
       "    <tr>\n",
       "      <th>4</th>\n",
       "      <td>12</td>\n",
       "      <td>Brandon Arnold</td>\n",
       "      <td>davisjohn@example.net</td>\n",
       "      <td>51</td>\n",
       "      <td>Male</td>\n",
       "      <td>Microsoft Xbox Controller</td>\n",
       "      <td>24-10-2021</td>\n",
       "      <td>Product inquiry</td>\n",
       "      <td>Software bug</td>\n",
       "      <td>I'm having an issue with the {product_purchase...</td>\n",
       "      <td>Closed</td>\n",
       "      <td>Measure there house management pick knowledge ...</td>\n",
       "      <td>High</td>\n",
       "      <td>Chat</td>\n",
       "      <td>01-06-2023 12:05</td>\n",
       "      <td>01-06-2023 09:27</td>\n",
       "      <td>1.0</td>\n",
       "    </tr>\n",
       "  </tbody>\n",
       "</table>\n",
       "</div>"
      ],
      "text/plain": [
       "   Ticket ID        Customer Name             Customer Email  Customer Age  \\\n",
       "0          1  Christopher Robbins  gonzalestracy@example.com            48   \n",
       "1          4     Christina Dillon   bradleyolson@example.org            27   \n",
       "2          5    Alexander Carroll    bradleymark@example.com            67   \n",
       "3         11        Joseph Moreno         mbrown@example.org            48   \n",
       "4         12       Brandon Arnold      davisjohn@example.net            51   \n",
       "\n",
       "  Customer Gender          Product Purchased Date of Purchase  \\\n",
       "0           Other                   Dell XPS       14-07-2020   \n",
       "1          Female           Microsoft Office       13-11-2020   \n",
       "2          Female           Autodesk AutoCAD       04-02-2020   \n",
       "3            Male            Nintendo Switch       19-01-2021   \n",
       "4            Male  Microsoft Xbox Controller       24-10-2021   \n",
       "\n",
       "            Ticket Type   Ticket Subject  \\\n",
       "0       Technical issue  Network problem   \n",
       "1       Billing inquiry   Account access   \n",
       "2       Billing inquiry        Data loss   \n",
       "3  Cancellation request        Data loss   \n",
       "4       Product inquiry     Software bug   \n",
       "\n",
       "                                  Ticket Description Ticket Status  \\\n",
       "0  I'm facing a problem with my {product_purchase...        Closed   \n",
       "1  I'm having an issue with the {product_purchase...        Closed   \n",
       "2  I'm having an issue with the {product_purchase...        Closed   \n",
       "3  I'm having an issue with the {product_purchase...        Closed   \n",
       "4  I'm having an issue with the {product_purchase...        Closed   \n",
       "\n",
       "                                          Resolution Ticket Priority  \\\n",
       "0       Case maybe show recently my computer follow.             Low   \n",
       "1      Try capital clearly never color toward story.             Low   \n",
       "2                        West decision evidence bit.             Low   \n",
       "3              Measure tonight surface feel forward.            High   \n",
       "4  Measure there house management pick knowledge ...            High   \n",
       "\n",
       "  Ticket Channel First Response Time Time to Resolution  \\\n",
       "0   Social media    01-06-2023 11:14   01-06-2023 18:05   \n",
       "1   Social media    01-06-2023 07:29   01-06-2023 01:57   \n",
       "2          Email    01-06-2023 00:12   01-06-2023 19:53   \n",
       "3          Phone    01-06-2023 17:46   31-05-2023 23:51   \n",
       "4           Chat    01-06-2023 12:05   01-06-2023 09:27   \n",
       "\n",
       "   Customer Satisfaction Rating  \n",
       "0                           3.0  \n",
       "1                           3.0  \n",
       "2                           1.0  \n",
       "3                           1.0  \n",
       "4                           1.0  "
      ]
     },
     "execution_count": 13,
     "metadata": {},
     "output_type": "execute_result"
    }
   ],
   "source": [
    "import pandas as pd\n",
    "df= pd.read_csv(r\"D:\\Unified Mentor Intership\\Data Science projects\\Customer Satisfaction\\Data\\customer_support_tickets.csv\")\n",
    "df.head()"
   ]
  },
  {
   "cell_type": "markdown",
   "id": "1e28532a",
   "metadata": {},
   "source": [
    "Convert date columns to datetime format"
   ]
  },
  {
   "cell_type": "code",
   "execution_count": 14,
   "id": "b3cc73d9",
   "metadata": {},
   "outputs": [],
   "source": [
    "df['Date of Purchase'] = pd.to_datetime(df['Date of Purchase'], dayfirst=True, errors='coerce')\n",
    "df['First Response Time'] = pd.to_datetime(df['First Response Time'], errors='coerce')\n",
    "df['Time to Resolution'] = pd.to_datetime(df['Time to Resolution'], errors='coerce')\n"
   ]
  },
  {
   "cell_type": "markdown",
   "id": "216c1aa4",
   "metadata": {},
   "source": [
    "Strip text columns of extra whitespace"
   ]
  },
  {
   "cell_type": "code",
   "execution_count": 15,
   "id": "06575d01",
   "metadata": {},
   "outputs": [],
   "source": [
    "text_cols = ['Customer Name', 'Customer Email', 'Customer Gender', 'Product Purchased',\n",
    "             'Ticket Type', 'Ticket Subject', 'Ticket Description',\n",
    "             'Ticket Status', 'Resolution', 'Ticket Priority', 'Ticket Channel']\n",
    "df[text_cols] = df[text_cols].apply(lambda x: x.str.strip())"
   ]
  },
  {
   "cell_type": "markdown",
   "id": "c62c3004",
   "metadata": {},
   "source": [
    "Handle missing values:\n"
   ]
  },
  {
   "cell_type": "code",
   "execution_count": 16,
   "id": "07052480",
   "metadata": {},
   "outputs": [
    {
     "name": "stderr",
     "output_type": "stream",
     "text": [
      "C:\\Users\\Lenovo\\AppData\\Local\\Temp\\ipykernel_8024\\343817842.py:3: FutureWarning: Series.fillna with 'method' is deprecated and will raise in a future version. Use obj.ffill() or obj.bfill() instead.\n",
      "  df['First Response Time'] = df['First Response Time'].fillna(method='ffill')\n",
      "C:\\Users\\Lenovo\\AppData\\Local\\Temp\\ipykernel_8024\\343817842.py:4: FutureWarning: Series.fillna with 'method' is deprecated and will raise in a future version. Use obj.ffill() or obj.bfill() instead.\n",
      "  df['Time to Resolution'] = df['Time to Resolution'].fillna(method='ffill')\n"
     ]
    }
   ],
   "source": [
    "df = df[df['Customer Satisfaction Rating'].notna()].reset_index(drop=True)\n",
    "df['Resolution'] = df['Resolution'].fillna('No resolution provided')\n",
    "df['First Response Time'] = df['First Response Time'].fillna(method='ffill')\n",
    "df['Time to Resolution'] = df['Time to Resolution'].fillna(method='ffill')\n"
   ]
  },
  {
   "cell_type": "markdown",
   "id": "ffb5c413",
   "metadata": {},
   "source": [
    "Feature Engineering : Create time delta features"
   ]
  },
  {
   "cell_type": "code",
   "execution_count": 17,
   "id": "d02ec09d",
   "metadata": {},
   "outputs": [],
   "source": [
    "df['Response Delay (hrs)'] = (df['First Response Time'] - df['Date of Purchase']).dt.total_seconds() / 3600\n",
    "df['Resolution Delay (hrs)'] = (df['Time to Resolution'] - df['First Response Time']).dt.total_seconds() / 3600"
   ]
  },
  {
   "cell_type": "markdown",
   "id": "f8141338",
   "metadata": {},
   "source": [
    "Save the cleaned DataFrame to a new CSV file"
   ]
  },
  {
   "cell_type": "code",
   "execution_count": 18,
   "id": "cf0a3f23",
   "metadata": {},
   "outputs": [],
   "source": [
    "df.to_csv(\"customer_support_cleaned.csv\", index=False)\n"
   ]
  }
 ],
 "metadata": {
  "kernelspec": {
   "display_name": "base",
   "language": "python",
   "name": "python3"
  },
  "language_info": {
   "codemirror_mode": {
    "name": "ipython",
    "version": 3
   },
   "file_extension": ".py",
   "mimetype": "text/x-python",
   "name": "python",
   "nbconvert_exporter": "python",
   "pygments_lexer": "ipython3",
   "version": "3.12.7"
  }
 },
 "nbformat": 4,
 "nbformat_minor": 5
}
